{
  "nbformat": 4,
  "nbformat_minor": 0,
  "metadata": {
    "colab": {
      "provenance": [],
      "gpuType": "T4"
    },
    "kernelspec": {
      "name": "python3",
      "display_name": "Python 3"
    },
    "language_info": {
      "name": "python"
    },
    "accelerator": "GPU"
  },
  "cells": [
    {
      "cell_type": "markdown",
      "source": [
        "# Installing and importing packages"
      ],
      "metadata": {
        "id": "A-mSPcoqxOeu"
      }
    },
    {
      "cell_type": "code",
      "execution_count": null,
      "metadata": {
        "colab": {
          "base_uri": "https://localhost:8080/"
        },
        "id": "zc5lX2ZJt7Hg",
        "outputId": "decc933f-7929-4ed4-bb2b-cb0f6510544c"
      },
      "outputs": [
        {
          "output_type": "stream",
          "name": "stdout",
          "text": [
            "Requirement already satisfied: pycodestyle in /usr/local/lib/python3.10/dist-packages (2.11.0)\n",
            "Looking in indexes: https://test.pypi.org/simple/\n",
            "Requirement already satisfied: nbpep8 in /usr/local/lib/python3.10/dist-packages (0.0.15)\n"
          ]
        }
      ],
      "source": [
        "!pip3 install pycodestyle\n",
        "!pip3 install --index-url https://test.pypi.org/simple/ nbpep8"
      ]
    },
    {
      "cell_type": "code",
      "source": [
        "from nbpep8.nbpep8 import pep8"
      ],
      "metadata": {
        "id": "X40yLihDuS2f"
      },
      "execution_count": null,
      "outputs": []
    },
    {
      "cell_type": "code",
      "source": [
        "!pip install transformers\n",
        "!pip install rusenttokenize\n",
        "\n",
        "import os\n",
        "import random\n",
        "import pandas as pd\n",
        "import numpy as np\n",
        "import matplotlib.pyplot as plt\n",
        "import seaborn as sns\n",
        "from collections import defaultdict\n",
        "\n",
        "from bs4 import BeautifulSoup\n",
        "import nltk\n",
        "from rusenttokenize import ru_sent_tokenize\n",
        "from sklearn.model_selection import train_test_split\n",
        "from sklearn.metrics import classification_report\n",
        "from sklearn.preprocessing import LabelEncoder\n",
        "import torch\n",
        "import torch.nn.functional as F\n",
        "import transformers\n",
        "from transformers import AdamW\n",
        "import torch.nn as nn\n",
        "from torch.utils.data import TensorDataset, DataLoader\n",
        "from transformers import BertTokenizer, BertModel, BertForSequenceClassification\n",
        "from torch.utils.data import Dataset"
      ],
      "metadata": {
        "colab": {
          "base_uri": "https://localhost:8080/"
        },
        "id": "DaEQJsKwt9J8",
        "outputId": "a05b89f1-5e61-4075-aaa3-0c0126cb7be2"
      },
      "execution_count": null,
      "outputs": [
        {
          "output_type": "stream",
          "name": "stdout",
          "text": [
            "Requirement already satisfied: transformers in /usr/local/lib/python3.10/dist-packages (4.31.0)\n",
            "Requirement already satisfied: filelock in /usr/local/lib/python3.10/dist-packages (from transformers) (3.12.2)\n",
            "Requirement already satisfied: huggingface-hub<1.0,>=0.14.1 in /usr/local/lib/python3.10/dist-packages (from transformers) (0.16.4)\n",
            "Requirement already satisfied: numpy>=1.17 in /usr/local/lib/python3.10/dist-packages (from transformers) (1.23.5)\n",
            "Requirement already satisfied: packaging>=20.0 in /usr/local/lib/python3.10/dist-packages (from transformers) (23.1)\n",
            "Requirement already satisfied: pyyaml>=5.1 in /usr/local/lib/python3.10/dist-packages (from transformers) (6.0.1)\n",
            "Requirement already satisfied: regex!=2019.12.17 in /usr/local/lib/python3.10/dist-packages (from transformers) (2023.6.3)\n",
            "Requirement already satisfied: requests in /usr/local/lib/python3.10/dist-packages (from transformers) (2.31.0)\n",
            "Requirement already satisfied: tokenizers!=0.11.3,<0.14,>=0.11.1 in /usr/local/lib/python3.10/dist-packages (from transformers) (0.13.3)\n",
            "Requirement already satisfied: safetensors>=0.3.1 in /usr/local/lib/python3.10/dist-packages (from transformers) (0.3.2)\n",
            "Requirement already satisfied: tqdm>=4.27 in /usr/local/lib/python3.10/dist-packages (from transformers) (4.66.1)\n",
            "Requirement already satisfied: fsspec in /usr/local/lib/python3.10/dist-packages (from huggingface-hub<1.0,>=0.14.1->transformers) (2023.6.0)\n",
            "Requirement already satisfied: typing-extensions>=3.7.4.3 in /usr/local/lib/python3.10/dist-packages (from huggingface-hub<1.0,>=0.14.1->transformers) (4.7.1)\n",
            "Requirement already satisfied: charset-normalizer<4,>=2 in /usr/local/lib/python3.10/dist-packages (from requests->transformers) (3.2.0)\n",
            "Requirement already satisfied: idna<4,>=2.5 in /usr/local/lib/python3.10/dist-packages (from requests->transformers) (3.4)\n",
            "Requirement already satisfied: urllib3<3,>=1.21.1 in /usr/local/lib/python3.10/dist-packages (from requests->transformers) (2.0.4)\n",
            "Requirement already satisfied: certifi>=2017.4.17 in /usr/local/lib/python3.10/dist-packages (from requests->transformers) (2023.7.22)\n",
            "Requirement already satisfied: rusenttokenize in /usr/local/lib/python3.10/dist-packages (0.0.5)\n"
          ]
        }
      ]
    },
    {
      "cell_type": "code",
      "source": [
        "from google.colab import drive\n",
        "drive.mount('/content/drive')"
      ],
      "metadata": {
        "colab": {
          "base_uri": "https://localhost:8080/"
        },
        "id": "bG9Tb1jbuBTS",
        "outputId": "a879d13f-669e-4058-df11-deefa84eb438"
      },
      "execution_count": null,
      "outputs": [
        {
          "output_type": "stream",
          "name": "stdout",
          "text": [
            "Drive already mounted at /content/drive; to attempt to forcibly remount, call drive.mount(\"/content/drive\", force_remount=True).\n"
          ]
        }
      ]
    },
    {
      "cell_type": "markdown",
      "source": [
        "# Data preparation"
      ],
      "metadata": {
        "id": "Z3aVkBrDxdtu"
      }
    },
    {
      "cell_type": "code",
      "source": [
        "WORK_DIR_FOR_TRAIN = \"/content/drive/My Drive/RSTreebank/train\"\n",
        "WORK_DIR_FOR_TEST = \"/content/drive/My Drive/RSTreebank/test\""
      ],
      "metadata": {
        "id": "Wz_MWWKywH2K"
      },
      "execution_count": null,
      "outputs": []
    },
    {
      "cell_type": "code",
      "source": [
        "def relation_detection_preprocessing(file_path):\n",
        "    \"\"\"Parses and preprocesses data for the Relation Semantics Detection task.\"\"\"\n",
        "    segments, groups = [], []\n",
        "    for filename in os.listdir(file_path):\n",
        "        with open(os.path.join(file_path, filename), 'r') as f:\n",
        "            text = f.read()\n",
        "            soup = BeautifulSoup(text, 'html.parser')\n",
        "            groups.append(soup.findAll('group'))\n",
        "            segments.append(soup.findAll('segment'))\n",
        "    relnames, text_pieces = [], []\n",
        "    disc_dict = {}\n",
        "    for i, text in enumerate(segments):\n",
        "        full_text = []\n",
        "        for sg in text:\n",
        "            full_text.append(sg.text)\n",
        "        disc_unit = ru_sent_tokenize(' '.join(full_text))\n",
        "        disc_dict[i] = disc_unit\n",
        "    for i, text in enumerate(segments):\n",
        "        for sg in text:\n",
        "            if 'parent' in str(sg):\n",
        "                try:\n",
        "                    relnames.append(sg['relname'])\n",
        "                    corresponding_passage = [\n",
        "                        elem for elem in disc_dict[i] if sg.text in elem+'.'\n",
        "                        ][0]\n",
        "                    prompt = sg.text.strip('#') + ' => ' + corresponding_passage\n",
        "                    text_pieces.append(prompt)\n",
        "                except:\n",
        "                    relnames.pop()\n",
        "                    pass\n",
        "    df = pd.DataFrame({'text': text_pieces, 'label': relnames})\n",
        "    return df\n"
      ],
      "metadata": {
        "id": "XRx-RPk0wYW4"
      },
      "execution_count": null,
      "outputs": []
    },
    {
      "cell_type": "code",
      "source": [
        "def swapped_sentence_preprocessing(file_path, train_mode=True):\n",
        "    \"\"\"Parsing and processes data for the Swapped Sentence Units Detection task,\n",
        "    which includes searching discource units, shuffling them, and creating new\n",
        "    pseudo-sentences.\"\"\"\n",
        "    segments, groups = [], []\n",
        "    for filename in os.listdir(file_path):\n",
        "        with open(os.path.join(file_path, filename), 'r') as f:\n",
        "            text = f.read()\n",
        "            soup = BeautifulSoup(text, 'html.parser')\n",
        "            groups.append(soup.findAll('group'))\n",
        "            segments.append(soup.findAll('segment'))\n",
        "    relnames, text_pieces = [], []\n",
        "    disc_dict = {}\n",
        "    for i, text in enumerate(segments):\n",
        "        full_text = []\n",
        "        for sg in text:\n",
        "            full_text.append(sg.text)\n",
        "        disc_unit = ru_sent_tokenize(' '.join(full_text))\n",
        "        for sentence in disc_unit:\n",
        "            sent_tokens = [elem for elem in full_text if elem in sentence]\n",
        "            if len(sent_tokens) > 1:\n",
        "                text_pieces.append(sent_tokens)\n",
        "    random.shuffle(text_pieces)\n",
        "    if train_mode==True:\n",
        "        for i in range(646):\n",
        "            random.shuffle(text_pieces[i])\n",
        "            relnames.append(0)\n",
        "        for i in range(646, 1294):\n",
        "            relnames.append(1)\n",
        "        df = pd.DataFrame({'text': text_pieces, 'label': relnames})\n",
        "    else:\n",
        "        for i in range(97):\n",
        "            random.shuffle(text_pieces[i])\n",
        "            relnames.append(0)\n",
        "        for i in range(97, 193):\n",
        "            relnames.append(1)\n",
        "        df = pd.DataFrame({'text': text_pieces, 'label': relnames})\n",
        "    return df\n",
        "\n"
      ],
      "metadata": {
        "id": "PTkOhlJAyW3i"
      },
      "execution_count": null,
      "outputs": []
    },
    {
      "cell_type": "code",
      "source": [
        "def scrambled_sentence_preprocessing(file_path, train_mode=True):\n",
        "    \"\"\"Parsing and processes data for the Scrambled Sentence Detection task,\n",
        "    which includes swapping two parts of a sentence, making it incoherent.\"\"\"\n",
        "    segments, groups = [], []\n",
        "    for filename in os.listdir(file_path):\n",
        "        with open(os.path.join(file_path, filename), 'r') as f:\n",
        "            text = f.read()\n",
        "            soup = BeautifulSoup(text, 'html.parser')\n",
        "            groups.append(soup.findAll('group'))\n",
        "            segments.append(soup.findAll('segment'))\n",
        "    relnames, text_pieces = [], []\n",
        "    disc_dict = {}\n",
        "    for i, text in enumerate(segments):\n",
        "        full_text = []\n",
        "        for sg in text:\n",
        "            full_text.append(sg.text)\n",
        "        disc_unit = ru_sent_tokenize(' '.join(full_text))\n",
        "        for sentence in disc_unit:\n",
        "            sent_tokens = [elem for elem in full_text if elem in sentence]\n",
        "            if len(sent_tokens) > 1:\n",
        "                text_pieces.append(sent_tokens)\n",
        "    random.shuffle(text_pieces)\n",
        "    if train_mode == True:\n",
        "        for i in range(0, 646, 2):\n",
        "            text_pieces[i][1], text_pieces[i+1][1] = text_pieces[i+1][1], text_pieces[i][1]\n",
        "            relnames.append(0)\n",
        "            relnames.append(0)\n",
        "        for i in range(646, 1294):\n",
        "            relnames.append(1)\n",
        "    else:\n",
        "          for i in range(0, 97, 2):\n",
        "              text_pieces[i][1], text_pieces[i+1][1] = text_pieces[i+1][1], text_pieces[i][1]\n",
        "              relnames.append(0)\n",
        "              relnames.append(0)\n",
        "          for i in range(98, 193):\n",
        "            relnames.append(1)\n",
        "    df = pd.DataFrame({'text': text_pieces, 'label': relnames})\n",
        "    return df\n",
        "\n"
      ],
      "metadata": {
        "id": "MXp_PrJkz34W"
      },
      "execution_count": null,
      "outputs": []
    },
    {
      "cell_type": "code",
      "source": [
        "class DiscourseDataset(Dataset):\n",
        "    \"\"\"A general dataset class which prepares preproccessed data for training.\"\"\"\n",
        "    def __init__(self, text, targets, tokenizer, max_len):\n",
        "        self.text = text\n",
        "        self.targets = targets\n",
        "        self.tokenizer = tokenizer\n",
        "        self.max_len = max_len\n",
        "\n",
        "    def __len__(self):\n",
        "        return len(self.text)\n",
        "\n",
        "    def __getitem__(self, item):\n",
        "        text = str(self.text[item])\n",
        "        target = self.targets[item]\n",
        "        encoding = self.tokenizer.encode_plus(\n",
        "          text,\n",
        "          add_special_tokens=True,\n",
        "          max_length=self.max_len,\n",
        "          truncation=True,\n",
        "          return_token_type_ids=False,\n",
        "          padding='max_length',\n",
        "          return_attention_mask=True,\n",
        "          return_tensors='pt',\n",
        "        )\n",
        "\n",
        "        #assert len(encoding['input_ids'])==self.max_len\n",
        "\n",
        "        return {\n",
        "          'text': text,\n",
        "          'input_ids': encoding['input_ids'].flatten(),\n",
        "          'attention_mask': encoding['attention_mask'].flatten(),\n",
        "          'targets': torch.tensor(target, dtype=torch.long)\n",
        "        }\n",
        "\n"
      ],
      "metadata": {
        "id": "PPngf0rO1i-D"
      },
      "execution_count": null,
      "outputs": []
    },
    {
      "cell_type": "code",
      "source": [
        "def create_data_loader(dataset, tokenizer, max_len=140, batch_size=16, shuffle=True):\n",
        "    \"\"\"Creates a DiscourseDataset instance and makes a Dataloader out of it. \"\"\"\n",
        "    ds = DiscourseDataset(\n",
        "        text=dataset.text.to_numpy(),\n",
        "        targets=dataset.label.to_numpy(),\n",
        "        tokenizer=tokenizer,\n",
        "        max_len=max_len\n",
        "    )\n",
        "\n",
        "    return DataLoader(\n",
        "        ds,\n",
        "        batch_size=batch_size,\n",
        "        num_workers=4,\n",
        "        shuffle=shuffle\n",
        "    )\n",
        "\n"
      ],
      "metadata": {
        "id": "edKvt8oi3OXs"
      },
      "execution_count": null,
      "outputs": []
    },
    {
      "cell_type": "markdown",
      "source": [
        "# Model"
      ],
      "metadata": {
        "id": "Fsg8eFyz5SQu"
      }
    },
    {
      "cell_type": "code",
      "source": [
        "tokenizer = BertTokenizer.from_pretrained(\"DeepPavlov/rubert-base-cased\", return_dict=False)\n",
        "model = BertModel.from_pretrained(\"DeepPavlov/rubert-base-cased\", return_dict=False)\n",
        "device = torch.device('cuda')"
      ],
      "metadata": {
        "colab": {
          "base_uri": "https://localhost:8080/"
        },
        "id": "FmpVs5zG5Twe",
        "outputId": "16337a74-e2b7-47b3-e082-b3739ce7e765"
      },
      "execution_count": null,
      "outputs": [
        {
          "output_type": "stream",
          "name": "stderr",
          "text": [
            "Some weights of the model checkpoint at DeepPavlov/rubert-base-cased were not used when initializing BertModel: ['cls.predictions.transform.dense.weight', 'cls.predictions.decoder.weight', 'cls.predictions.transform.LayerNorm.bias', 'cls.predictions.bias', 'cls.predictions.transform.LayerNorm.weight', 'cls.seq_relationship.bias', 'cls.predictions.transform.dense.bias', 'cls.predictions.decoder.bias', 'cls.seq_relationship.weight']\n",
            "- This IS expected if you are initializing BertModel from the checkpoint of a model trained on another task or with another architecture (e.g. initializing a BertForSequenceClassification model from a BertForPreTraining model).\n",
            "- This IS NOT expected if you are initializing BertModel from the checkpoint of a model that you expect to be exactly identical (initializing a BertForSequenceClassification model from a BertForSequenceClassification model).\n"
          ]
        }
      ]
    },
    {
      "cell_type": "code",
      "source": [
        "class DiscourseClassifier(nn.Module):\n",
        "    \"\"\"Creates a multiclass classifier by adding a Dropout layer for\n",
        "    regularization and a fully connected layer for classification\"\"\"\n",
        "    def __init__(self, n_classes):\n",
        "        super(DiscourseClassifier, self).__init__()\n",
        "        self.bert = model\n",
        "        self.drop = nn.Dropout(p=0.3)\n",
        "        self.out = nn.Linear(self.bert.config.hidden_size, n_classes)\n",
        "\n",
        "    def forward(self, input_ids, attention_mask):\n",
        "        _, pooled_output = self.bert(\n",
        "            input_ids=input_ids,\n",
        "            attention_mask=attention_mask\n",
        "        )\n",
        "        output = self.drop(pooled_output)\n",
        "        return self.out(output)"
      ],
      "metadata": {
        "id": "zhVh1Mjj53yh"
      },
      "execution_count": null,
      "outputs": []
    },
    {
      "cell_type": "markdown",
      "source": [
        "# Training and Evaluation"
      ],
      "metadata": {
        "id": "eIcV4ZxJOAyg"
      }
    },
    {
      "cell_type": "code",
      "source": [
        "def train_epoch(\n",
        "  model,\n",
        "  data_loader,\n",
        "  loss_fn,\n",
        "  optimizer,\n",
        "  device,\n",
        "  scheduler,\n",
        "  n_examples\n",
        "):\n",
        "    model = model.train()\n",
        "\n",
        "    losses = []\n",
        "    correct_predictions = 0\n",
        "\n",
        "    for d in data_loader:\n",
        "        input_ids = d[\"input_ids\"].to(device)\n",
        "        attention_mask = d[\"attention_mask\"].to(device)\n",
        "        targets = d[\"targets\"].to(device)\n",
        "        outputs = model(\n",
        "          input_ids=input_ids,\n",
        "          attention_mask=attention_mask\n",
        "        )\n",
        "\n",
        "        _, preds = torch.max(outputs, dim=1)\n",
        "        loss = loss_fn(outputs, targets)\n",
        "\n",
        "        correct_predictions += torch.sum(preds == targets)\n",
        "        losses.append(loss.item())\n",
        "\n",
        "        loss.backward()\n",
        "        nn.utils.clip_grad_norm_(model.parameters(), max_norm=1.0)\n",
        "        optimizer.step()\n",
        "        scheduler.step()\n",
        "        optimizer.zero_grad()\n",
        "\n",
        "    return correct_predictions.double() / n_examples, np.mean(losses)"
      ],
      "metadata": {
        "id": "cd-YGLNnODxn"
      },
      "execution_count": null,
      "outputs": []
    },
    {
      "cell_type": "code",
      "source": [
        "def eval_model(model, data_loader, loss_fn, device, n_examples):\n",
        "    model = model.eval()\n",
        "\n",
        "    losses = []\n",
        "    correct_predictions = 0\n",
        "\n",
        "    with torch.no_grad():\n",
        "        for d in data_loader:\n",
        "            input_ids = d[\"input_ids\"].to(device)\n",
        "            attention_mask = d[\"attention_mask\"].to(device)\n",
        "            targets = d[\"targets\"].to(device)\n",
        "\n",
        "            outputs = model(\n",
        "              input_ids=input_ids,\n",
        "              attention_mask=attention_mask\n",
        "            )\n",
        "            _, preds = torch.max(outputs, dim=1)\n",
        "\n",
        "            loss = loss_fn(outputs, targets)\n",
        "\n",
        "            correct_predictions += torch.sum(preds == targets)\n",
        "            losses.append(loss.item())\n",
        "\n",
        "    return correct_predictions.double() / n_examples, np.mean(losses)"
      ],
      "metadata": {
        "id": "kAH7PYZsOFyn"
      },
      "execution_count": null,
      "outputs": []
    },
    {
      "cell_type": "code",
      "source": [
        "def trainer(model, epochs):\n",
        "    history = defaultdict(list)\n",
        "    best_accuracy = 0\n",
        "    for epoch in range(epochs):\n",
        "        print(f'Epoch {epoch + 1}/{epochs}')\n",
        "        print('-' * 10)\n",
        "\n",
        "        train_acc, train_loss = train_epoch(\n",
        "          model,\n",
        "          train_data_loader,\n",
        "          loss_fn,\n",
        "          optimizer,\n",
        "          device,\n",
        "          scheduler,\n",
        "          len(sampled_train)\n",
        "        )\n",
        "\n",
        "        print(f'Train loss {train_loss} accuracy {train_acc}')\n",
        "        '''\n",
        "        val_acc, val_loss = eval_model(\n",
        "          rubert,\n",
        "          val_data_loader,\n",
        "          loss_fn,\n",
        "          device,\n",
        "          len(df_val)\n",
        "        )\n",
        "\n",
        "        print(f'Val   loss {val_loss} accuracy {val_acc}')\n",
        "        print()\n",
        "        '''\n",
        "        history['train_acc'].append(train_acc)\n",
        "        history['train_loss'].append(train_loss)\n",
        "        #history['val_acc'].append(val_acc)\n",
        "        #history['val_loss'].append(val_loss)\n",
        "\n",
        "        if train_acc > best_accuracy:\n",
        "          torch.save(model.state_dict(), 'best_model_state.bin')\n",
        "          best_accuracy = train_acc"
      ],
      "metadata": {
        "id": "onXnNemDOJp_"
      },
      "execution_count": null,
      "outputs": []
    },
    {
      "cell_type": "code",
      "source": [
        "def evaluator(model):\n",
        "    model = model.eval()\n",
        "    review_texts = []\n",
        "    predictions = []\n",
        "    prediction_probs = []\n",
        "    real_values = []\n",
        "    with torch.no_grad():\n",
        "        for d in test_data_loader:\n",
        "            texts = d[\"text\"]\n",
        "            input_ids = d[\"input_ids\"].to(device)\n",
        "            attention_mask = d[\"attention_mask\"].to(device)\n",
        "            targets = d[\"targets\"].to(device)\n",
        "\n",
        "            outputs = model(\n",
        "              input_ids=input_ids,\n",
        "              attention_mask=attention_mask\n",
        "            )\n",
        "            _, preds = torch.max(outputs, dim=1)\n",
        "\n",
        "            probs = F.softmax(outputs, dim=1)\n",
        "\n",
        "            review_texts.extend(texts)\n",
        "            predictions.extend(preds)\n",
        "            prediction_probs.extend(probs)\n",
        "            real_values.extend(targets)\n",
        "    predictions = torch.stack(predictions).cpu()\n",
        "    prediction_probs = torch.stack(prediction_probs).cpu()\n",
        "    real_values = torch.stack(real_values).cpu()\n",
        "    return review_texts, predictions, prediction_probs, real_values"
      ],
      "metadata": {
        "id": "0oy7JhzcllZr"
      },
      "execution_count": null,
      "outputs": []
    },
    {
      "cell_type": "markdown",
      "source": [
        "# Experiment 1. Swapped Sentence Units"
      ],
      "metadata": {
        "id": "mLyRs7y5LXnN"
      }
    },
    {
      "cell_type": "code",
      "source": [
        "train = swapped_sentence_preprocessing(WORK_DIR_FOR_TRAIN)\n",
        "test = swapped_sentence_preprocessing(WORK_DIR_FOR_TEST, train_mode=False)"
      ],
      "metadata": {
        "id": "7llhGfTILcLb"
      },
      "execution_count": null,
      "outputs": []
    },
    {
      "cell_type": "code",
      "source": [
        "train['text'] = train['text'].apply(lambda x: ' '.join(x))\n",
        "test['text'] = test['text'].apply(lambda x: ' '.join(x))"
      ],
      "metadata": {
        "id": "PmgpUsweL2ZN"
      },
      "execution_count": null,
      "outputs": []
    },
    {
      "cell_type": "code",
      "source": [
        "for sent in train['text'][:5]:\n",
        "    print(sent)"
      ],
      "metadata": {
        "colab": {
          "base_uri": "https://localhost:8080/"
        },
        "id": "3RZd296TL6xE",
        "outputId": "d7bb5689-013d-4f92-c54b-a29bf7bc5037"
      },
      "execution_count": null,
      "outputs": [
        {
          "output_type": "stream",
          "name": "stdout",
          "text": [
            "как по всей стране прошла минута молчания в память о жертвах этого преступления. Обама выступал в Белом доме через несколько часов после того,\n",
            "и относится к так называемому «провинциальному» типу. Пирамида находится неподалеку от древнего поселения Эдфу (около ста километров к югу от Луксора)\n",
            "могут лишь жить надеждой или, но активисты, которые поддерживают демократию, ##### Здесь много “если”, как выразился покойный сирийский драматург Сааделлах Ваннус, они обречены надеяться.\n",
            "Хотя он открыл сирийскую границу для боевиков и предоставил свободу действий сторонникам Саддама, этот его выбор, возможно, не вполне добровольный.\n",
            "##### Наступил этот момент или нет - вот в чем вопрос.\n"
          ]
        }
      ]
    },
    {
      "cell_type": "code",
      "source": [
        "sns.set(rc={'figure.figsize':(11.7,8.27)})\n",
        "ax = sns.countplot(x=train['label'])\n",
        "ax.tick_params(axis='x')"
      ],
      "metadata": {
        "colab": {
          "base_uri": "https://localhost:8080/",
          "height": 725
        },
        "id": "TXvB2bHgL9W1",
        "outputId": "c2c65957-47e6-4295-c10e-538c5a137226"
      },
      "execution_count": null,
      "outputs": [
        {
          "output_type": "display_data",
          "data": {
            "text/plain": [
              "<Figure size 1170x827 with 1 Axes>"
            ],
            "image/png": "[encoded data removed]"
          },
          "metadata": {}
        }
      ]
    },
    {
      "cell_type": "code",
      "source": [
        "sampled_train = train.sample(frac=1).reset_index(drop=True)\n",
        "sampled_test = test.sample(frac=1).reset_index(drop=True)"
      ],
      "metadata": {
        "id": "pgNf55MSNQPH"
      },
      "execution_count": null,
      "outputs": []
    },
    {
      "cell_type": "code",
      "source": [
        "train_data_loader = create_data_loader(sampled_train, tokenizer)\n",
        "test_data_loader = create_data_loader(sampled_test, tokenizer, shuffle=False)"
      ],
      "metadata": {
        "id": "FOua8Vf6NVoO"
      },
      "execution_count": null,
      "outputs": []
    },
    {
      "cell_type": "code",
      "source": [
        "ssu_model = DiscourseClassifier(2)\n",
        "ssu_model = ssu_model.to(device)\n",
        "\n",
        "EPOCHS = 10\n",
        "optimizer = AdamW(ssu_model.parameters(), lr=2e-5, correct_bias=False)\n",
        "total_steps = len(train_data_loader) * EPOCHS\n",
        "scheduler = transformers.get_linear_schedule_with_warmup(\n",
        "  optimizer,\n",
        "  num_warmup_steps=0,\n",
        "  num_training_steps=total_steps\n",
        ")\n",
        "\n",
        "loss_fn = torch.nn.CrossEntropyLoss().to(device)"
      ],
      "metadata": {
        "id": "jisXvqHkNiRN"
      },
      "execution_count": null,
      "outputs": []
    },
    {
      "cell_type": "code",
      "source": [
        "trainer(ssu_model, EPOCHS)"
      ],
      "metadata": {
        "colab": {
          "base_uri": "https://localhost:8080/"
        },
        "id": "c6ShLZc9dT78",
        "outputId": "9beac105-647a-4eba-cc40-db0739cc10cd"
      },
      "execution_count": null,
      "outputs": [
        {
          "output_type": "stream",
          "name": "stdout",
          "text": [
            "Epoch 1/10\n",
            "----------\n",
            "Train loss 0.458987160505336 accuracy 0.8013910355486862\n",
            "Epoch 2/10\n",
            "----------\n",
            "Train loss 0.39624164327059264 accuracy 0.8454404945904173\n",
            "Epoch 3/10\n",
            "----------\n",
            "Train loss 0.34313126908684216 accuracy 0.875579598145286\n",
            "Epoch 4/10\n",
            "----------\n",
            "Train loss 0.25054145195050004 accuracy 0.9142194744976816\n",
            "Epoch 5/10\n",
            "----------\n",
            "Train loss 0.17782774519313266 accuracy 0.9513137557959814\n",
            "Epoch 6/10\n",
            "----------\n",
            "Train loss 0.10222440250907783 accuracy 0.973724884080371\n",
            "Epoch 7/10\n",
            "----------\n",
            "Train loss 0.07596317920143958 accuracy 0.9806800618238022\n",
            "Epoch 8/10\n",
            "----------\n",
            "Train loss 0.03333826225687876 accuracy 0.9922720247295208\n",
            "Epoch 9/10\n",
            "----------\n",
            "Train loss 0.018066971640413005 accuracy 0.9969088098918083\n",
            "Epoch 10/10\n",
            "----------\n",
            "Train loss 0.011251981533994829 accuracy 0.9976816074188563\n"
          ]
        }
      ]
    },
    {
      "cell_type": "code",
      "source": [
        "y_texts, y_pred, y_pred_probs, y_test = evaluator(ssu_model)"
      ],
      "metadata": {
        "id": "dk8Gqp1Il1d7"
      },
      "execution_count": null,
      "outputs": []
    },
    {
      "cell_type": "code",
      "source": [
        "print(classification_report(y_test, y_pred))"
      ],
      "metadata": {
        "colab": {
          "base_uri": "https://localhost:8080/"
        },
        "id": "LMGf0mBRmJHj",
        "outputId": "383e857c-608b-4f6d-e458-9c545b45a0d1"
      },
      "execution_count": null,
      "outputs": [
        {
          "output_type": "stream",
          "name": "stdout",
          "text": [
            "              precision    recall  f1-score   support\n",
            "\n",
            "           0       0.83      0.70      0.76        97\n",
            "           1       0.74      0.85      0.79        96\n",
            "\n",
            "    accuracy                           0.78       193\n",
            "   macro avg       0.78      0.78      0.78       193\n",
            "weighted avg       0.78      0.78      0.78       193\n",
            "\n"
          ]
        }
      ]
    },
    {
      "cell_type": "markdown",
      "source": [
        "# Experiment 2. Scrambled Sentence Detection"
      ],
      "metadata": {
        "id": "LueyH-5_obIO"
      }
    },
    {
      "cell_type": "code",
      "source": [
        "train = scrambled_sentence_preprocessing(WORK_DIR_FOR_TRAIN)\n",
        "test = scrambled_sentence_preprocessing(WORK_DIR_FOR_TEST, train_mode=False)"
      ],
      "metadata": {
        "id": "xdfpNkxt02ia"
      },
      "execution_count": null,
      "outputs": []
    },
    {
      "cell_type": "code",
      "source": [
        "train['text'] = train['text'].apply(lambda x: ' '.join(x))\n",
        "test['text'] = test['text'].apply(lambda x: ' '.join(x))"
      ],
      "metadata": {
        "id": "dx-sa7na1tSb"
      },
      "execution_count": null,
      "outputs": []
    },
    {
      "cell_type": "code",
      "source": [
        "for sent in train['text'][:5]:\n",
        "    print(sent)"
      ],
      "metadata": {
        "colab": {
          "base_uri": "https://localhost:8080/"
        },
        "id": "-FMiczX817TR",
        "outputId": "5a53ad30-2cf8-4c51-e73e-b2d003d0d5cf"
      },
      "execution_count": null,
      "outputs": [
        {
          "output_type": "stream",
          "name": "stdout",
          "text": [
            "##### Мне лично кажется, как сообщает «РБК-Украина»,\n",
            "Число протестующих там, что вместо переписывания законов гораздо более действенным было бы надлежащее исполнение существующих. составляет около двух тысяч человек.\n",
            "##### Женщина обратилась к журналистам светского издания олицетворяемые исламским фундаментализмом и «Аль-Каидой», — она сказала, что больше никто помогать не желает — полиция с гурскими хасидами не связывается.\n",
            "Здесь переплелись и вызовы арабо-мусульманского мира, от отчаяния и традиционные проблемы Чёрной Африки: диктатура, коррупция, трайбализм и клановость.\n",
            "##### В то время как внимание всего мира сосредоточено на Ираке, Северной Корее и возможном конфликте с Ираном чтобы это событие было предано забвению Косово сошло с экранов радаров.\n"
          ]
        }
      ]
    },
    {
      "cell_type": "code",
      "source": [
        "sns.set(rc={'figure.figsize':(11.7,8.27)})\n",
        "ax = sns.countplot(x=train.label)\n",
        "ax.tick_params(axis='x')"
      ],
      "metadata": {
        "colab": {
          "base_uri": "https://localhost:8080/",
          "height": 725
        },
        "id": "tHlWTIoV148w",
        "outputId": "283af71d-43c6-42b0-9f49-bbb4206179d4"
      },
      "execution_count": null,
      "outputs": [
        {
          "output_type": "display_data",
          "data": {
            "text/plain": [
              "<Figure size 1170x827 with 1 Axes>"
            ],
            "image/png": "[encoded data removed]"
          },
          "metadata": {}
        }
      ]
    },
    {
      "cell_type": "code",
      "source": [
        "sampled_train = train.sample(frac=1).reset_index(drop=True)\n",
        "sampled_test = test.sample(frac=1).reset_index(drop=True)"
      ],
      "metadata": {
        "id": "_Spo4Mjn9YVN"
      },
      "execution_count": null,
      "outputs": []
    },
    {
      "cell_type": "code",
      "source": [
        "train_data_loader = create_data_loader(sampled_train, tokenizer)\n",
        "test_data_loader = create_data_loader(sampled_test, tokenizer, shuffle=False)"
      ],
      "metadata": {
        "colab": {
          "base_uri": "https://localhost:8080/"
        },
        "id": "17kanPip9OKm",
        "outputId": "6cdf6cd2-7858-44a0-d408-29a68a1bab3e"
      },
      "execution_count": null,
      "outputs": [
        {
          "output_type": "stream",
          "name": "stderr",
          "text": [
            "/usr/local/lib/python3.10/dist-packages/torch/utils/data/dataloader.py:560: UserWarning: This DataLoader will create 4 worker processes in total. Our suggested max number of worker in current system is 2, which is smaller than what this DataLoader is going to create. Please be aware that excessive worker creation might get DataLoader running slow or even freeze, lower the worker number to avoid potential slowness/freeze if necessary.\n",
            "  warnings.warn(_create_warning_msg(\n"
          ]
        }
      ]
    },
    {
      "cell_type": "code",
      "source": [
        "ssd_model = DiscourseClassifier(2)\n",
        "ssd_model = ssd_model.to(device)\n",
        "\n",
        "EPOCHS = 4\n",
        "optimizer = AdamW(ssd_model.parameters(), lr=2e-5, correct_bias=False)\n",
        "total_steps = len(train_data_loader) * EPOCHS\n",
        "scheduler = transformers.get_linear_schedule_with_warmup(\n",
        "  optimizer,\n",
        "  num_warmup_steps=0,\n",
        "  num_training_steps=total_steps\n",
        ")\n",
        "\n",
        "loss_fn = torch.nn.CrossEntropyLoss().to(device)"
      ],
      "metadata": {
        "colab": {
          "base_uri": "https://localhost:8080/"
        },
        "id": "wqKJun6z-LDN",
        "outputId": "a3d555ed-090a-4b53-d270-2bfbd1c48c65"
      },
      "execution_count": null,
      "outputs": [
        {
          "output_type": "stream",
          "name": "stderr",
          "text": [
            "/usr/local/lib/python3.10/dist-packages/transformers/optimization.py:411: FutureWarning: This implementation of AdamW is deprecated and will be removed in a future version. Use the PyTorch implementation torch.optim.AdamW instead, or set `no_deprecation_warning=True` to disable this warning\n",
            "  warnings.warn(\n"
          ]
        }
      ]
    },
    {
      "cell_type": "code",
      "source": [
        "trainer(ssd_model, EPOCHS)"
      ],
      "metadata": {
        "colab": {
          "base_uri": "https://localhost:8080/"
        },
        "id": "vUDbYFSQ-pol",
        "outputId": "c05e6b8e-a0e8-4101-cec5-dea0a1f3aed0"
      },
      "execution_count": null,
      "outputs": [
        {
          "output_type": "stream",
          "name": "stdout",
          "text": [
            "Epoch 1/4\n",
            "----------\n",
            "Train loss 0.5534202263311103 accuracy 0.7272024729520865\n",
            "Epoch 2/4\n",
            "----------\n",
            "Train loss 0.30419889285608576 accuracy 0.8910355486862442\n",
            "Epoch 3/4\n",
            "----------\n",
            "Train loss 0.12452038689401507 accuracy 0.9667697063369397\n",
            "Epoch 4/4\n",
            "----------\n",
            "Train loss 0.04704071098168231 accuracy 0.9891808346213292\n"
          ]
        }
      ]
    },
    {
      "cell_type": "code",
      "source": [
        "y_texts, y_pred, y_pred_probs, y_test = evaluator(ssd_model)"
      ],
      "metadata": {
        "id": "0dP0wsB4AMUH"
      },
      "execution_count": null,
      "outputs": []
    },
    {
      "cell_type": "code",
      "source": [
        "print(classification_report(y_test, y_pred))"
      ],
      "metadata": {
        "colab": {
          "base_uri": "https://localhost:8080/"
        },
        "id": "Gtn7GiTkAXkm",
        "outputId": "dcf1a46b-0029-49c3-8d0d-3a638302c824"
      },
      "execution_count": null,
      "outputs": [
        {
          "output_type": "stream",
          "name": "stdout",
          "text": [
            "              precision    recall  f1-score   support\n",
            "\n",
            "           0       0.92      0.79      0.85        98\n",
            "           1       0.81      0.93      0.86        95\n",
            "\n",
            "    accuracy                           0.85       193\n",
            "   macro avg       0.86      0.86      0.85       193\n",
            "weighted avg       0.86      0.85      0.85       193\n",
            "\n"
          ]
        }
      ]
    },
    {
      "cell_type": "markdown",
      "source": [
        "#Experiment 3. Relation Semantics Detection"
      ],
      "metadata": {
        "id": "v_oz0IMYogRF"
      }
    },
    {
      "cell_type": "code",
      "source": [
        "train = relation_detection_preprocessing(WORK_DIR_FOR_TRAIN)\n",
        "test = relation_detection_preprocessing(WORK_DIR_FOR_TEST)"
      ],
      "metadata": {
        "id": "uT0bhAPFrS7e"
      },
      "execution_count": null,
      "outputs": []
    },
    {
      "cell_type": "code",
      "source": [
        "sns.set(rc={'figure.figsize':(11.7,8.27)})\n",
        "ax = sns.countplot(x=train.label)\n",
        "ax.tick_params(axis='x', rotation=90)"
      ],
      "metadata": {
        "colab": {
          "base_uri": "https://localhost:8080/",
          "height": 902
        },
        "id": "qWPisSOlrsPx",
        "outputId": "8d8626ba-8a7e-4237-e16c-77feefc4c346"
      },
      "execution_count": null,
      "outputs": [
        {
          "output_type": "display_data",
          "data": {
            "text/plain": [
              "<Figure size 1170x827 with 1 Axes>"
            ],
            "image/png": "[encoded data removed]"
          },
          "metadata": {}
        }
      ]
    },
    {
      "cell_type": "code",
      "source": [
        "train = train.drop(train[train['label']=='span'].index)\n",
        "train = train.drop(train[train['label']=='evaluation'].index)\n",
        "train = train.drop(train[train['label']=='effect'].index)"
      ],
      "metadata": {
        "id": "c-_CFZFustQK"
      },
      "execution_count": null,
      "outputs": []
    },
    {
      "cell_type": "code",
      "source": [
        "test = test.drop(test[test['label']=='span'].index)\n",
        "test = test.drop(test[test['label']=='evaluation'].index)\n",
        "test = test.drop(test[test['label']=='effect'].index)"
      ],
      "metadata": {
        "id": "KZ8HwmaqtHwD"
      },
      "execution_count": null,
      "outputs": []
    },
    {
      "cell_type": "code",
      "source": [
        "sns.set(rc={'figure.figsize':(11.7,8.27)})\n",
        "ax = sns.countplot(x=train.label)\n",
        "ax.tick_params(axis='x', rotation=90)"
      ],
      "metadata": {
        "colab": {
          "base_uri": "https://localhost:8080/",
          "height": 902
        },
        "id": "xYyA-ol3svyB",
        "outputId": "0b2cd231-3b49-4357-fea5-93cb03d263fa"
      },
      "execution_count": null,
      "outputs": [
        {
          "output_type": "display_data",
          "data": {
            "text/plain": [
              "<Figure size 1170x827 with 1 Axes>"
            ],
            "image/png": "[encoded data removed]"
          },
          "metadata": {}
        }
      ]
    },
    {
      "cell_type": "code",
      "source": [
        "le = LabelEncoder()\n",
        "y_train = le.fit_transform(train['label'])\n",
        "y_test = le.transform(test['label'])\n",
        "train['class name'] = train['label'].copy()\n",
        "test['class name'] = test['label'].copy()\n",
        "train['label'] = y_train\n",
        "test['label'] = y_test\n",
        "\n",
        "print(train)"
      ],
      "metadata": {
        "colab": {
          "base_uri": "https://localhost:8080/"
        },
        "id": "S0ueqDv_tYsh",
        "outputId": "0e6e73b2-a2e1-4512-d2e0-573979c034c8"
      },
      "execution_count": null,
      "outputs": [
        {
          "output_type": "stream",
          "name": "stdout",
          "text": [
            "                                                   text  label   class name\n",
            "0      Недавно Соединенные Штаты добились сомнительн...     11  preparation\n",
            "2     - на протяжении долгого времени бывшую их един...      7  elaboration\n",
            "4     чтобы сэкономить на этом деньги. => Они достиг...     12      purpose\n",
            "5     А несколькими годами раньше, когда Америка бро...      1   background\n",
            "7     - несмотря на то, что население Китая более че...      4   concession\n",
            "...                                                 ...    ...          ...\n",
            "4557  занимавшейся разработкой нефти в Патагонии на ...     14    same-unit\n",
            "4559  принадлежавших Repsol, => Государство первонач...      7  elaboration\n",
            "4560  без уплаты каких-либо компенсаций. => Государс...     14    same-unit\n",
            "4561  В качестве причин в Буэнос-Айресе указали => В...      0  attribution\n",
            "4564  но она до сих пор не разглашается. => В конечн...      4   concession\n",
            "\n",
            "[3055 rows x 3 columns]\n"
          ]
        }
      ]
    },
    {
      "cell_type": "code",
      "source": [
        "sampled_train = train.sample(frac=1).reset_index(drop=True)\n",
        "sampled_test = test.sample(frac=1).reset_index(drop=True)"
      ],
      "metadata": {
        "id": "IN_0u6eyhIvE"
      },
      "execution_count": null,
      "outputs": []
    },
    {
      "cell_type": "code",
      "source": [
        "train_data_loader = create_data_loader(sampled_train, tokenizer)\n",
        "test_data_loader = create_data_loader(sampled_test, tokenizer, shuffle=False)"
      ],
      "metadata": {
        "colab": {
          "base_uri": "https://localhost:8080/"
        },
        "id": "ejbr4JpXgiNd",
        "outputId": "edd63121-f21f-456d-b243-280af1433516"
      },
      "execution_count": null,
      "outputs": [
        {
          "output_type": "stream",
          "name": "stderr",
          "text": [
            "/usr/local/lib/python3.10/dist-packages/torch/utils/data/dataloader.py:560: UserWarning: This DataLoader will create 4 worker processes in total. Our suggested max number of worker in current system is 2, which is smaller than what this DataLoader is going to create. Please be aware that excessive worker creation might get DataLoader running slow or even freeze, lower the worker number to avoid potential slowness/freeze if necessary.\n",
            "  warnings.warn(_create_warning_msg(\n"
          ]
        }
      ]
    },
    {
      "cell_type": "code",
      "source": [
        "rsd_model = DiscourseClassifier(17)\n",
        "rsd_model = rsd_model.to(device)\n",
        "\n",
        "EPOCHS = 10\n",
        "optimizer = AdamW(rsd_model.parameters(), lr=2e-5, correct_bias=False)\n",
        "total_steps = len(train_data_loader) * EPOCHS\n",
        "scheduler = transformers.get_linear_schedule_with_warmup(\n",
        "  optimizer,\n",
        "  num_warmup_steps=0,\n",
        "  num_training_steps=total_steps\n",
        ")\n",
        "\n",
        "loss_fn = torch.nn.CrossEntropyLoss().to(device)"
      ],
      "metadata": {
        "colab": {
          "base_uri": "https://localhost:8080/"
        },
        "id": "I4N9jiYJgwkW",
        "outputId": "7b6f8ad5-16cb-4743-825a-0804756a9f4d"
      },
      "execution_count": null,
      "outputs": [
        {
          "output_type": "stream",
          "name": "stderr",
          "text": [
            "/usr/local/lib/python3.10/dist-packages/transformers/optimization.py:411: FutureWarning: This implementation of AdamW is deprecated and will be removed in a future version. Use the PyTorch implementation torch.optim.AdamW instead, or set `no_deprecation_warning=True` to disable this warning\n",
            "  warnings.warn(\n"
          ]
        }
      ]
    },
    {
      "cell_type": "code",
      "source": [
        "trainer(rsd_model, EPOCHS)"
      ],
      "metadata": {
        "colab": {
          "base_uri": "https://localhost:8080/"
        },
        "id": "_CUKcSPTg_9O",
        "outputId": "4929af07-c16e-41ce-ac2b-39e25abaf966"
      },
      "execution_count": null,
      "outputs": [
        {
          "output_type": "stream",
          "name": "stdout",
          "text": [
            "Epoch 1/10\n",
            "----------\n",
            "Train loss 2.116068607225468 accuracy 0.39901800327332243\n",
            "Epoch 2/10\n",
            "----------\n",
            "Train loss 1.3440940841954416 accuracy 0.6301145662847791\n",
            "Epoch 3/10\n",
            "----------\n",
            "Train loss 0.8605325522379101 accuracy 0.7682487725040917\n",
            "Epoch 4/10\n",
            "----------\n",
            "Train loss 0.5277849576236066 accuracy 0.8648117839607202\n",
            "Epoch 5/10\n",
            "----------\n",
            "Train loss 0.30440735097252886 accuracy 0.9260229132569558\n",
            "Epoch 6/10\n",
            "----------\n",
            "Train loss 0.18802521972190492 accuracy 0.9567921440261866\n",
            "Epoch 7/10\n",
            "----------\n",
            "Train loss 0.11601377687665648 accuracy 0.9751227495908348\n",
            "Epoch 8/10\n",
            "----------\n",
            "Train loss 0.07245423930760532 accuracy 0.9852700490998364\n",
            "Epoch 9/10\n",
            "----------\n",
            "Train loss 0.05512223890324303 accuracy 0.9878887070376433\n",
            "Epoch 10/10\n",
            "----------\n",
            "Train loss 0.04511492127913455 accuracy 0.990834697217676\n"
          ]
        }
      ]
    },
    {
      "cell_type": "code",
      "source": [
        "y_texts, y_pred, y_pred_probs, y_test = evaluator(rsd_model)"
      ],
      "metadata": {
        "colab": {
          "base_uri": "https://localhost:8080/"
        },
        "id": "fciyyWHmlL79",
        "outputId": "da7dbc64-cce7-4d24-efc2-805e25c9b2bc"
      },
      "execution_count": null,
      "outputs": [
        {
          "output_type": "stream",
          "name": "stderr",
          "text": [
            "/usr/local/lib/python3.10/dist-packages/torch/utils/data/dataloader.py:560: UserWarning: This DataLoader will create 4 worker processes in total. Our suggested max number of worker in current system is 2, which is smaller than what this DataLoader is going to create. Please be aware that excessive worker creation might get DataLoader running slow or even freeze, lower the worker number to avoid potential slowness/freeze if necessary.\n",
            "  warnings.warn(_create_warning_msg(\n"
          ]
        }
      ]
    },
    {
      "cell_type": "code",
      "source": [
        "print(classification_report(y_test, y_pred))"
      ],
      "metadata": {
        "colab": {
          "base_uri": "https://localhost:8080/"
        },
        "id": "MW8Y4v7AlQqd",
        "outputId": "34e90967-80b1-41ab-e8ba-40352fb56508"
      },
      "execution_count": null,
      "outputs": [
        {
          "output_type": "stream",
          "name": "stdout",
          "text": [
            "              precision    recall  f1-score   support\n",
            "\n",
            "           0       0.88      0.93      0.90        45\n",
            "           1       0.14      0.10      0.12        10\n",
            "           2       0.48      0.46      0.47        24\n",
            "           3       0.00      0.00      0.00         9\n",
            "           4       0.70      0.70      0.70        10\n",
            "           5       0.83      0.73      0.77        33\n",
            "           6       0.54      0.61      0.57        36\n",
            "           7       0.70      0.75      0.73        69\n",
            "           8       0.50      0.12      0.20         8\n",
            "           9       0.25      0.29      0.27         7\n",
            "          10       0.66      0.70      0.68       136\n",
            "          11       0.60      0.60      0.60        10\n",
            "          12       0.74      0.82      0.78        17\n",
            "          13       0.00      0.00      0.00         3\n",
            "          14       0.73      0.55      0.63        20\n",
            "          15       0.33      0.20      0.25        10\n",
            "          16       0.40      0.67      0.50         3\n",
            "\n",
            "    accuracy                           0.65       450\n",
            "   macro avg       0.50      0.48      0.48       450\n",
            "weighted avg       0.64      0.65      0.64       450\n",
            "\n"
          ]
        }
      ]
    }
  ]
}